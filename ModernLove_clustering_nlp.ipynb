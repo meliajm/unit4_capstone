{
 "cells": [
  {
   "cell_type": "code",
   "execution_count": 1,
   "metadata": {},
   "outputs": [],
   "source": [
    "# first thing I wanted to do was use latent dirichlet allocation (LDA) with bag of words (bow) and term frequency \n",
    "# inverse document frequency (tfidf) to do topic modeling\n",
    "\n",
    "# I use this as my reference\n",
    "# https://github.com/susanli2016/NLP-with-Python/blob/master/LDA_news_headlines.ipynb\n",
    "\n",
    "# I have already done some supervised learning to see predict which era (2006 or 2018) the articles are from, I would \n",
    "# like to us multilayer perceptrons (MLP) to do some more predictions"
   ]
  },
  {
   "cell_type": "markdown",
   "metadata": {},
   "source": [
    "# New York Times Modern Love columns\n",
    "\n",
    "My favorite part of the New York Times is Modern Love. They are articles submitted and chosen for press on all things love. The column started in 2004 and is still running. I wanted to see if \"Modern\" has changed between then and now. I use some natural language processing to compare articles written at the start of Modern Love and more currently (2018). "
   ]
  },
  {
   "cell_type": "code",
   "execution_count": 2,
   "metadata": {},
   "outputs": [],
   "source": [
    "# import some modules\n",
    "%matplotlib inline\n",
    "import numpy as np\n",
    "import pandas as pd\n",
    "import scipy\n",
    "import sklearn\n",
    "import matplotlib.pyplot as plt\n",
    "import seaborn as sns\n",
    "import re\n",
    "import spacy\n",
    "from collections import Counter\n",
    "import nltk"
   ]
  },
  {
   "cell_type": "code",
   "execution_count": 3,
   "metadata": {},
   "outputs": [],
   "source": [
    "# I got about 50 articles from 2004 to 2006 and another set of 50 from 2018\n",
    "\n",
    "import requests\n",
    "from bs4 import BeautifulSoup\n",
    "\n",
    "# combine text from multiple urls\n",
    "\n",
    "urls_list_modern_love = ['https://www.nytimes.com/2005/05/29/fashion/sundaystyles/a-prince-charming-for-the-prom-not-ever-after-though.html',\n",
    "                        'https://www.nytimes.com/2004/10/31/fashion/just-friends-let-me-read-between-the-lines.html',\n",
    "                        'https://www.nytimes.com/2005/03/27/fashion/truly-madly-guiltily.html?rref=collection%2Fcolumn%2Fmodern-love&action=click&contentCollection=fashion&region=stream&module=stream_unit&version=search&contentPlacement=4&pgtype=collection',\n",
    "                        'https://www.nytimes.com/2005/09/11/fashion/sundaystyles/djs-homeless-mommy.html',\n",
    "                        'https://www.nytimes.com/2006/01/29/fashion/sundaystyles/29LOVE.html',\n",
    "                        'https://www.nytimes.com/2006/02/26/fashion/sundaystyles/26LOVE.html',\n",
    "                        'https://www.nytimes.com/2006/05/07/fashion/sundaystyles/07love.html',\n",
    "                        'https://www.nytimes.com/2006/05/14/fashion/sundaystyles/14love.html',\n",
    "                        'https://www.nytimes.com/2006/05/21/fashion/sundaystyles/21love.html',\n",
    "                        \n",
    "                        'https://www.nytimes.com/2006/05/28/fashion/sundaystyles/28love.html',\n",
    "                        'https://www.nytimes.com/2006/06/04/fashion/04love.html',\n",
    "                        'https://www.nytimes.com/2006/06/11/fashion/sundaystyles/11love.html',\n",
    "                        'https://www.nytimes.com/2006/06/18/fashion/sundaystyles/18love.html',\n",
    "                        'https://www.nytimes.com/2006/06/25/fashion/25love.html',\n",
    "                        'https://www.nytimes.com/2006/06/25/fashion/25love.html',\n",
    "                        'https://www.nytimes.com/2006/07/16/fashion/sundaystyles/16love.html',\n",
    "                        'https://www.nytimes.com/2006/07/30/fashion/30LOVE.html',\n",
    "                        'https://www.nytimes.com/2006/08/06/fashion/06love.html',\n",
    "                        'https://www.nytimes.com/2006/08/13/fashion/13love.html',\n",
    "                         \n",
    "                        'https://www.nytimes.com/2006/08/20/fashion/20LOVE.html',\n",
    "                        'https://www.nytimes.com/2006/08/27/fashion/27love.html',\n",
    "                        'https://www.nytimes.com/2006/09/03/fashion/03love.html',\n",
    "                        'https://www.nytimes.com/2006/09/10/fashion/10love.html',\n",
    "                        'https://www.nytimes.com/2006/09/17/fashion/17love.html',\n",
    "                        'https://www.nytimes.com/2006/09/24/fashion/24love.html',\n",
    "                        'https://www.nytimes.com/2006/10/01/fashion/01love.html',\n",
    "                        'https://www.nytimes.com/2006/10/08/fashion/08love.html',\n",
    "                        'https://www.nytimes.com/2006/10/15/fashion/15love.html',\n",
    "                        'https://www.nytimes.com/2006/10/22/fashion/22love.html',\n",
    "                        \n",
    "                        'https://www.nytimes.com/2006/10/29/fashion/29love.html',\n",
    "                        'https://www.nytimes.com/2006/11/05/fashion/05love.html',\n",
    "                        'https://www.nytimes.com/2006/11/12/fashion/12love.html',\n",
    "                        'https://www.nytimes.com/2006/11/19/fashion/19love.html',\n",
    "                        'https://www.nytimes.com/2006/11/26/fashion/26love.html',\n",
    "                        'https://www.nytimes.com/2006/12/03/fashion/03love.html',\n",
    "                        'https://www.nytimes.com/2006/12/10/fashion/10love.html',\n",
    "                        'https://www.nytimes.com/2006/12/17/fashion/17love.html',\n",
    "                        'https://www.nytimes.com/2006/12/24/fashion/24love.html',\n",
    "                        'https://www.nytimes.com/2007/01/07/fashion/07love.html',\n",
    "                        'https://www.nytimes.com/2007/01/14/fashion/14love.html',\n",
    "                        \n",
    "                        'https://www.nytimes.com/2007/01/21/fashion/21love.html',\n",
    "                        'https://www.nytimes.com/2007/01/28/fashion/28love.html',\n",
    "                        'https://www.nytimes.com/2007/02/04/fashion/04love.html',\n",
    "                        'https://www.nytimes.com/2007/02/18/fashion/18love.html',\n",
    "                        'https://www.nytimes.com/2007/02/25/fashion/25love.html',\n",
    "                        'https://www.nytimes.com/2007/03/04/fashion/04love.html',\n",
    "                        'https://www.nytimes.com/2007/03/11/fashion/11love.html',\n",
    "                        'https://www.nytimes.com/2007/03/18/fashion/18love.html',\n",
    "                        'https://www.nytimes.com/2007/03/25/fashion/25love.html',\n",
    "                        'https://www.nytimes.com/2007/04/01/fashion/01love.html'\n",
    "                        ]\n",
    "\n",
    "\n",
    "nyt_modern_love_2004_2007 = ''\n",
    "for url in urls_list_modern_love:\n",
    "    request = requests.get(url)\n",
    "    soup = BeautifulSoup(request.content, \"html5lib\")\n",
    "    url_result = soup.find_all(\"p\", {\"class\": \"story-content\"})\n",
    "    url_result = str(url_result)\n",
    "    url_result = re.sub(r'--', ' ', url_result)\n",
    "    url_result = re.sub(\"(<[^>]+>)\", \"\", url_result)\n",
    "    nyt_modern_love_2004_2007 = nyt_modern_love_2004_2007 + url_result\n",
    "    #print(len(nyt_modern_love_2004_2007))\n",
    "#print((nyt_modern_love_2004_2007))   \n",
    "\n"
   ]
  },
  {
   "cell_type": "code",
   "execution_count": 4,
   "metadata": {},
   "outputs": [],
   "source": [
    "urls_list_modern_love_2018 = ['https://www.nytimes.com/2018/12/28/style/modern-love-the-junk-removers-manhandle-my-heart.html',\n",
    "                              'https://www.nytimes.com/2018/12/21/style/modern-love-mystery-holiday-fruitcake-solved.html',\n",
    "                              'https://www.nytimes.com/2018/12/14/style/modern-love-your-dog-has-seen-me-naked.html',\n",
    "                              'https://www.nytimes.com/2018/12/07/style/modern-love-when-a-boyfriend-joins-the-marriage.html',\n",
    "                              'https://www.nytimes.com/2018/11/30/style/modern-love-marooned-on-love-island.html'\n",
    "                              'https://www.nytimes.com/2018/11/23/style/destined-to-marry-the-cute-bartender.html',\n",
    "                              'https://www.nytimes.com/2018/11/16/style/modern-love-i-would-have-driven-her-anywhere-.html',\n",
    "                              'https://www.nytimes.com/2018/11/09/style/modern-love-keeping-this-fluffy-fragile-beast-alive.html',\n",
    "                              'https://www.nytimes.com/2018/11/02/style/modern-love-wedding-day-leukemia-swollen-eyes.html',\n",
    "                              'https://www.nytimes.com/2018/10/26/style/modern-love-im-the-man.html',\n",
    "                              \n",
    "                              'https://www.nytimes.com/2018/10/19/style/modern-love-when-sturdy-love-is-what-you-need.html',\n",
    "                              'https://www.nytimes.com/2018/10/12/style/modern-love-talking-to-my-fiance-about-my-new-girlfriend.html',\n",
    "                              'https://www.nytimes.com/2018/10/05/style/modern-love-neighbor-bro-smashes-my-romantic-fantasy.html',\n",
    "                              'https://www.nytimes.com/2018/09/28/style/modern-love-how-i-met-my-children.html',\n",
    "                              'https://www.nytimes.com/2018/09/21/style/modern-love-pudge-will-keep-us-together.html',\n",
    "                              'https://www.nytimes.com/2018/09/14/style/modern-love-need-to-find-me-ask-my-ham-man.html',\n",
    "                              'https://www.nytimes.com/2018/09/07/style/modern-love-he-asked-permission-to-touch-but-not-to-ghost.html',\n",
    "                              'https://www.nytimes.com/2018/08/31/style/modern-love-honey-i-swept-the-floor.html',\n",
    "                              'https://www.nytimes.com/2018/08/24/style/modern-love-the-kisses-that-paid-my-rent.html',\n",
    "                              'https://www.nytimes.com/2018/08/17/style/modern-love-for-13-days-i-believed-him.html',\n",
    "                              \n",
    "                              'https://www.nytimes.com/2018/08/10/style/modern-love-driving-2130-miles-for-a-haircut.html',\n",
    "                              'https://www.nytimes.com/2018/08/03/style/modern-love-how-i-lost-the-fiance-but-won-the-honeymoon.html',\n",
    "                              'https://www.nytimes.com/2018/07/27/style/modern-love-marriage-class-at-guantanamo.html',\n",
    "                              'https://www.nytimes.com/2018/07/20/style/modern-love-please-take-my-sons-wallet.html',\n",
    "                              'https://www.nytimes.com/2018/07/13/style/modern-love-what-boxing-taught-me-about-love.html',\n",
    "                              'https://www.nytimes.com/2018/07/06/style/modern-love-when-friends-fall-in-love.html',\n",
    "                              'https://www.nytimes.com/2018/06/29/style/modern-love-hes-going-back-to-his-former-wife-sort-of.html',\n",
    "                              'https://www.nytimes.com/2018/06/22/style/modern-love-staying-together-by-living-apart.html',\n",
    "                              'https://www.nytimes.com/2018/06/15/style/modern-love-my-wife-said-you-may-want-to-marry-me.html',\n",
    "                              'https://www.nytimes.com/2018/06/08/style/modern-love-i-wanted-to-be-dominated-but-not-quite-like-that.html',\n",
    "                              \n",
    "                              'https://www.nytimes.com/2018/06/01/style/modern-love-neither-male-nor-female-seems-to-fit.html',\n",
    "                              'https://www.nytimes.com/2018/05/25/style/modern-love-means-never-having-to-say-anything.html',\n",
    "                              'https://www.nytimes.com/2018/05/11/style/modern-love-motherless-but-growing-toward-the-light.html',\n",
    "                              'https://www.nytimes.com/2018/05/04/style/modern-love-alexa-please-ignore-my-husband.html',\n",
    "                              'https://www.nytimes.com/2018/04/27/style/modern-love-immigration-threat-of-deportation.html',\n",
    "                              'https://www.nytimes.com/2018/04/20/style/modern-love-flying-close-to-temptation.html',\n",
    "                              'https://www.nytimes.com/2018/04/13/style/when-love-seems-too-easy-to-trust.html',\n",
    "                              'https://www.nytimes.com/2018/04/06/style/modern-love-sleeping-with-married-men-infidelity.html',\n",
    "                              'https://www.nytimes.com/2018/03/30/style/modern-love-for-a-30-year-old-virgin-its-now-or-never.html',\n",
    "                              'https://www.nytimes.com/2018/03/23/style/modern-love-first-try-the-pastrami-then-the-polyamory.html',\n",
    "                              \n",
    "                              'https://www.nytimes.com/2018/03/16/style/modern-love-she-was-my-world-but-we-couldnt-marry.html',\n",
    "                              'https://www.nytimes.com/2018/03/09/style/modern-love-its-us-against-a-particle-of-dust.html',\n",
    "                              'https://www.nytimes.com/2018/03/02/style/modern-love-am-i-gay-online-quizzes.html',\n",
    "                              'https://www.nytimes.com/2018/02/23/style/modern-love-a-future-without-him-widow.html',\n",
    "                              'https://www.nytimes.com/2018/02/16/style/modern-love-how-lolita-freed-me-from-my-own-humbert.html',\n",
    "                              'https://www.nytimes.com/2018/02/09/style/modern-love-valentines-day-acted-like-strangers.html',\n",
    "                              'https://www.nytimes.com/2018/02/02/style/modern-love-when-your-body-tells-you-what-your-brain-wont.html',\n",
    "                              'https://www.nytimes.com/2018/01/26/style/modern-love-are-bitcoins-more-real-than-boyfriends.html',\n",
    "                              'https://www.nytimes.com/2018/01/19/style/modern-love-the-bike-that-saved-my-life.html',\n",
    "                              'https://www.nytimes.com/2018/01/12/style/modern-love-hookup-ghosting-use-your-words.html'\n",
    "    \n",
    "\n",
    "    \n",
    "]\n",
    "nyt_modern_love_2018 = ''\n",
    "for url in urls_list_modern_love_2018:\n",
    "    request = requests.get(url)\n",
    "    soup = BeautifulSoup(request.content, \"html5lib\")\n",
    "    #url_result = soup.find_all(\"p\", {\"name\": \"articleBody\"})\n",
    "    url_result = soup.findAll('div',attrs={\"class\":\"StoryBodyCompanionColumn\"})\n",
    "    url_result = str(url_result)\n",
    "    url_result = re.sub(r'--', ' ', url_result)\n",
    "    url_result = re.sub(\"(<[^>]+>)\", \"\", url_result)\n",
    "    nyt_modern_love_2018 = nyt_modern_love_2018 + url_result\n",
    "    #print(len(nyt_modern_love_2018))\n",
    "#print((nyt_modern_love_2018))\n",
    "\n"
   ]
  },
  {
   "cell_type": "code",
   "execution_count": 5,
   "metadata": {},
   "outputs": [
    {
     "data": {
      "text/plain": [
       "'LATELY I\\'ve become wary of the question \"Frank, what are you doing next Saturday night?\" In the mont'"
      ]
     },
     "execution_count": 5,
     "metadata": {},
     "output_type": "execute_result"
    }
   ],
   "source": [
    "# do some cleaning\n",
    "\n",
    "nyt_modern_love_2004_2007 = re.sub('E-mail: modernlove@nytimes.com, MODERN LOVE', '', nyt_modern_love_2004_2007)\n",
    "\n",
    "\n",
    "nyt_modern_love_2004_2007 = re.sub('UPDATED: You can now hear this essay read by the actress Minnie Driver in Modern Love: The Podcast. Look for the “play” button below or subscribe on iTunes or Google Play Music. , ', '', nyt_modern_love_2004_2007)\n",
    "nyt_modern_love_2004_2007 = re.sub('UPDATED: You can now hear this essay read by the actress Catherine Keener in Modern Love: The Podcast. Look for the “play” button below or subscribe on iTunes or Google Play Music., ', '', nyt_modern_love_2004_2007)\n",
    "nyt_modern_love_2004_2007 = re.sub('UPDATED: You can now hear this essay read by the actor John Cho in Modern Love:'\n",
    "                                   'The Podcast. Look for the “play” button below or subscribe on iTunes or Google '\n",
    "                                   'Play Music.,', '', nyt_modern_love_2004_2007)\n",
    "nyt_modern_love_2004_2007 = re.sub('UPDATED: You can now hear this essay read by Sarah Silverman, followed by a '\n",
    "                                   'conversation with the writer Angela Balcita and her husband Christopher Doyle,'\n",
    "                                   ' in Modern Love: The Podcast. Look for the “play” button below.,', '',\n",
    "                                   nyt_modern_love_2004_2007)\n",
    "\n",
    "nyt_modern_love_2018 = re.sub('Modern Love can be reached at modernlove@nytimes.com.To hear Modern Love: The Podcast, subscribe on iTunes or Google Play Music. To read past Modern Love columns, click here.'\n",
    "'Continue following our fashion and lifestyle coverage on Facebook (Styles and Modern Love), Twitter'\n",
    "'(Styles, Fashion and Weddings) and Instagram.', '', nyt_modern_love_2018)\n",
    "\n",
    "nyt_modern_love_2018 = re.sub('Modern Love can be reached at modernlove@nytimes.com.To hear Modern Love: The Podcast, subscribe on iTunes or Google Play Music. To read past Modern Love columns, click here. Continue following our fashion and lifestyle coverage on Facebook (Styles and Modern Love), Twitter (Styles, Fashion and Weddings) and Instagram.', '', nyt_modern_love_2018)\n",
    "nyt_modern_love_2018 = re.sub(r'UPDATED.*', '', nyt_modern_love_2018)\n",
    "nyt_modern_love_2018 = nyt_modern_love_2018.replace('[', '')\n",
    "nyt_modern_love_2018 = nyt_modern_love_2018.replace(']', '')\n",
    "nyt_modern_love_2018 = nyt_modern_love_2018.replace('Modern Love can be reached at modernlove@nytimes.com.To hear Modern Love: The Podcast, subscribe on iTunes or Google Play Music. To read past Modern Love columns, click here. Continue following our fashion and lifestyle coverage on Facebook (Styles and Modern Love), Twitter (Styles, Fashion and Weddings) and Instagram.', '')\n",
    "\n",
    "\n",
    "nyt_modern_love_2004_2007 = nyt_modern_love_2004_2007.replace('[', '')\n",
    "nyt_modern_love_2004_2007 = nyt_modern_love_2004_2007.replace(']', '')\n",
    "\n",
    "nyt_modern_love_2004_2007 = nyt_modern_love_2004_2007.replace('UPDATED: You can now hear this essay read by\\xa0the actress Catherine Keener in Modern Love: The Podcast. Look for the “play” button below or subscribe on\\xa0iTunes\\xa0or\\xa0Google Play Music.,', '')\n",
    "nyt_modern_love_2004_2007 = nyt_modern_love_2004_2007.replace('UPDATED: You can now hear this essay read by the actor John Cho in Modern Love: The Podcast. Look for the “play” button below or subscribe on iTunes or Google Play Music.,', '')\n",
    "#nyt_modern_love_2004_2007 = nyt_modern_love_2004_2007.replace('\"\\\"', '')\n",
    "\n",
    "nyt_modern_love_2004_2007[:100]\n"
   ]
  },
  {
   "cell_type": "code",
   "execution_count": 6,
   "metadata": {},
   "outputs": [
    {
     "data": {
      "text/html": [
       "<div>\n",
       "<style scoped>\n",
       "    .dataframe tbody tr th:only-of-type {\n",
       "        vertical-align: middle;\n",
       "    }\n",
       "\n",
       "    .dataframe tbody tr th {\n",
       "        vertical-align: top;\n",
       "    }\n",
       "\n",
       "    .dataframe thead th {\n",
       "        text-align: right;\n",
       "    }\n",
       "</style>\n",
       "<table border=\"1\" class=\"dataframe\">\n",
       "  <thead>\n",
       "    <tr style=\"text-align: right;\">\n",
       "      <th></th>\n",
       "      <th>0</th>\n",
       "      <th>1</th>\n",
       "    </tr>\n",
       "  </thead>\n",
       "  <tbody>\n",
       "    <tr>\n",
       "      <th>0</th>\n",
       "      <td>(LATELY)</td>\n",
       "      <td>2004</td>\n",
       "    </tr>\n",
       "    <tr>\n",
       "      <th>1</th>\n",
       "      <td>(I, 've, become, wary, of, the, question, \", F...</td>\n",
       "      <td>2004</td>\n",
       "    </tr>\n",
       "    <tr>\n",
       "      <th>2</th>\n",
       "      <td>(\", In, the, month, of, May, it, can, only, me...</td>\n",
       "      <td>2004</td>\n",
       "    </tr>\n",
       "    <tr>\n",
       "      <th>3</th>\n",
       "      <td>(And, no, ,, I, 'm, not, doing, a, favor, for,...</td>\n",
       "      <td>2004</td>\n",
       "    </tr>\n",
       "    <tr>\n",
       "      <th>4</th>\n",
       "      <td>(Cousins, are, out, .)</td>\n",
       "      <td>2004</td>\n",
       "    </tr>\n",
       "  </tbody>\n",
       "</table>\n",
       "</div>"
      ],
      "text/plain": [
       "                                                   0     1\n",
       "0                                           (LATELY)  2004\n",
       "1  (I, 've, become, wary, of, the, question, \", F...  2004\n",
       "2  (\", In, the, month, of, May, it, can, only, me...  2004\n",
       "3  (And, no, ,, I, 'm, not, doing, a, favor, for,...  2004\n",
       "4                             (Cousins, are, out, .)  2004"
      ]
     },
     "execution_count": 6,
     "metadata": {},
     "output_type": "execute_result"
    }
   ],
   "source": [
    "nlp = spacy.load('en')\n",
    "nytML200407_doc = nlp(nyt_modern_love_2004_2007)\n",
    "nytML2018_doc = nlp(nyt_modern_love_2018)\n",
    "\n",
    "\n",
    "ML2004_sents = [[sent, '2004'] for sent in nytML200407_doc.sents]\n",
    "ML2018_sents = [[sent, '2018'] for sent in nytML2018_doc.sents]\n",
    "\n",
    "sentences = pd.DataFrame(ML2004_sents + ML2018_sents)\n",
    "sentences.head()"
   ]
  },
  {
   "cell_type": "code",
   "execution_count": 9,
   "metadata": {},
   "outputs": [
    {
     "name": "stdout",
     "output_type": "stream",
     "text": [
      "[nltk_data] Downloading package wordnet to /Users/melia/nltk_data...\n",
      "[nltk_data]   Package wordnet is already up-to-date!\n"
     ]
    },
    {
     "data": {
      "text/plain": [
       "True"
      ]
     },
     "execution_count": 9,
     "metadata": {},
     "output_type": "execute_result"
    }
   ],
   "source": [
    "# starting LDA\n",
    "import gensim\n",
    "from gensim.models import word2vec\n",
    "from gensim.utils import simple_preprocess\n",
    "from gensim.parsing.preprocessing import STOPWORDS\n",
    "from nltk.stem import WordNetLemmatizer, SnowballStemmer\n",
    "from nltk.stem.porter import *\n",
    "import numpy as np\n",
    "np.random.seed(2018)\n",
    "import nltk\n",
    "nltk.download('wordnet')"
   ]
  },
  {
   "cell_type": "code",
   "execution_count": 11,
   "metadata": {},
   "outputs": [],
   "source": [
    "# get lemmas into processed document, using stems\n",
    "stemmer = SnowballStemmer('english')\n",
    "\n",
    "def lemmatize_stemming(text):\n",
    "    return stemmer.stem(WordNetLemmatizer().lemmatize(text, pos='v'))\n",
    "\n",
    "def preprocess(text):\n",
    "    result = []\n",
    "    for token in gensim.utils.simple_preprocess(text):\n",
    "        if token not in gensim.parsing.preprocessing.STOPWORDS and len(token) > 3:\n",
    "            result.append(lemmatize_stemming(token))\n",
    "    return result\n",
    "\n",
    "doc = sentences[0].astype(str)\n",
    "\n",
    "processed_doc = doc.map(preprocess)"
   ]
  },
  {
   "cell_type": "code",
   "execution_count": 12,
   "metadata": {},
   "outputs": [
    {
     "data": {
      "text/plain": [
       "11352                                                   []\n",
       "11353                      [want, nice, feel, oblig, know]\n",
       "11354    [want, nice, mean, make, sens, say, tangl, han...\n",
       "11355        [wander, casual, expect, yield, relationship]\n",
       "11356    [understand, guy, think, flatteri, bedroom, we...\n",
       "11357              [love, date, wonder, think, want, date]\n",
       "11358                    [requir, flatteri, deserv, ghost]\n",
       "11359                                 [hookup, need, mean]\n",
       "11360                                               [mean]\n",
       "11361                                               [word]\n",
       "Name: 0, dtype: object"
      ]
     },
     "execution_count": 12,
     "metadata": {},
     "output_type": "execute_result"
    }
   ],
   "source": [
    "processed_doc[-10:]"
   ]
  },
  {
   "cell_type": "code",
   "execution_count": 13,
   "metadata": {},
   "outputs": [],
   "source": [
    "dictionary = gensim.corpora.Dictionary(processed_doc)"
   ]
  },
  {
   "cell_type": "code",
   "execution_count": 14,
   "metadata": {},
   "outputs": [],
   "source": [
    "dictionary.filter_extremes(no_below=15, no_above=0.5, keep_n=100000)"
   ]
  },
  {
   "cell_type": "code",
   "execution_count": 15,
   "metadata": {},
   "outputs": [
    {
     "name": "stdout",
     "output_type": "stream",
     "text": [
      "word 1 (\"night\") appears 1 time.\n",
      "word 79 (\"stori\") appears 2 time.\n",
      "word 173 (\"end\") appears 1 time.\n",
      "word 270 (\"write\") appears 1 time.\n",
      "word 413 (\"song\") appears 1 time.\n"
     ]
    }
   ],
   "source": [
    "bow_corpus = [dictionary.doc2bow(doc) for doc in processed_doc]\n",
    "bow_corpus[11001]\n",
    "\n",
    "bow_dooc_11001 = bow_corpus[11001]\n",
    "for i in range(len(bow_dooc_11001)):\n",
    "    print('word {} (\\\"{}\\\") appears {} time.'.format(bow_dooc_11001[i][0], dictionary[bow_dooc_11001[i][0]], bow_dooc_11001[i][1]))\n",
    "    \n",
    "    \n",
    "    "
   ]
  },
  {
   "cell_type": "code",
   "execution_count": 16,
   "metadata": {},
   "outputs": [],
   "source": [
    "from gensim import corpora, models\n",
    "\n",
    "tfidf = models.TfidfModel(bow_corpus)\n",
    "corpus_tfidf = tfidf[bow_corpus]"
   ]
  },
  {
   "cell_type": "code",
   "execution_count": 19,
   "metadata": {},
   "outputs": [
    {
     "name": "stdout",
     "output_type": "stream",
     "text": [
      "topic: 0 \n",
      "Words: 0.059*\"say\" + 0.025*\"want\" + 0.023*\"friend\" + 0.022*\"come\" + 0.014*\"look\" + 0.014*\"tell\" + 0.011*\"time\" + 0.010*\"husband\" + 0.009*\"open\" + 0.008*\"need\"\n",
      "topic: 1 \n",
      "Words: 0.014*\"ask\" + 0.013*\"time\" + 0.013*\"talk\" + 0.012*\"relationship\" + 0.012*\"work\" + 0.011*\"like\" + 0.011*\"feel\" + 0.010*\"say\" + 0.010*\"couldn\" + 0.009*\"call\"\n",
      "topic: 2 \n",
      "Words: 0.032*\"year\" + 0.019*\"know\" + 0.019*\"time\" + 0.018*\"life\" + 0.018*\"live\" + 0.014*\"later\" + 0.014*\"like\" + 0.011*\"home\" + 0.010*\"tri\" + 0.009*\"think\"\n",
      "topic: 3 \n",
      "Words: 0.034*\"know\" + 0.030*\"want\" + 0.018*\"love\" + 0.014*\"hand\" + 0.013*\"need\" + 0.011*\"read\" + 0.010*\"have\" + 0.009*\"say\" + 0.009*\"time\" + 0.009*\"take\"\n",
      "topic: 4 \n",
      "Words: 0.030*\"like\" + 0.026*\"think\" + 0.026*\"love\" + 0.022*\"go\" + 0.021*\"mother\" + 0.016*\"thing\" + 0.015*\"tell\" + 0.013*\"month\" + 0.011*\"wasn\" + 0.009*\"know\"\n"
     ]
    }
   ],
   "source": [
    "num_topc = 5\n",
    "# lda using bow\n",
    "lda_model = gensim.models.LdaMulticore(bow_corpus, num_topics=num_topc, id2word=dictionary, passes=2, workers=2)\n",
    "for idx, topic in lda_model.print_topics(-1):\n",
    "    print('topic: {} \\nWords: {}'.format(idx, topic))"
   ]
  },
  {
   "cell_type": "code",
   "execution_count": 20,
   "metadata": {},
   "outputs": [
    {
     "name": "stdout",
     "output_type": "stream",
     "text": [
      "topic: 0 Word: 0.027*\"know\" + 0.018*\"look\" + 0.016*\"year\" + 0.014*\"mayb\" + 0.012*\"work\" + 0.011*\"think\" + 0.011*\"husband\" + 0.010*\"right\" + 0.009*\"come\" + 0.008*\"begin\"\n",
      "topic: 1 Word: 0.025*\"love\" + 0.018*\"think\" + 0.012*\"like\" + 0.010*\"ask\" + 0.010*\"date\" + 0.010*\"felt\" + 0.010*\"happen\" + 0.010*\"talk\" + 0.009*\"peopl\" + 0.008*\"tell\"\n",
      "topic: 2 Word: 0.036*\"want\" + 0.021*\"like\" + 0.015*\"say\" + 0.012*\"hand\" + 0.012*\"take\" + 0.011*\"feel\" + 0.011*\"kiss\" + 0.010*\"know\" + 0.009*\"hold\" + 0.009*\"love\"\n",
      "topic: 3 Word: 0.019*\"go\" + 0.017*\"say\" + 0.017*\"tell\" + 0.014*\"come\" + 0.011*\"thing\" + 0.008*\"friend\" + 0.008*\"leav\" + 0.008*\"like\" + 0.008*\"time\" + 0.008*\"couldn\"\n",
      "topic: 4 Word: 0.040*\"say\" + 0.016*\"life\" + 0.015*\"time\" + 0.013*\"wasn\" + 0.012*\"month\" + 0.012*\"need\" + 0.011*\"mother\" + 0.010*\"live\" + 0.010*\"love\" + 0.008*\"hear\"\n"
     ]
    }
   ],
   "source": [
    "# LDA using tfidf\n",
    "\n",
    "lda_model_tfidf = gensim.models.LdaMulticore(corpus_tfidf, num_topics=num_topc, id2word=dictionary, passes=2, workers=4)\n",
    "for idx, topic in lda_model_tfidf.print_topics(-1):\n",
    "    print('topic: {} Word: {}'.format(idx, topic))\n",
    "    "
   ]
  },
  {
   "cell_type": "code",
   "execution_count": 22,
   "metadata": {},
   "outputs": [
    {
     "name": "stdout",
     "output_type": "stream",
     "text": [
      "\n",
      "Score 0.80403071641922 \n",
      "Topic: 0.030*\"like\" + 0.026*\"think\" + 0.026*\"love\" + 0.022*\"go\" + 0.021*\"mother\" + 0.016*\"thing\" + 0.015*\"tell\" + 0.013*\"month\" + 0.011*\"wasn\" + 0.009*\"know\"\n",
      "\n",
      "Score 0.10888399928808212 \n",
      "Topic: 0.059*\"say\" + 0.025*\"want\" + 0.023*\"friend\" + 0.022*\"come\" + 0.014*\"look\" + 0.014*\"tell\" + 0.011*\"time\" + 0.010*\"husband\" + 0.009*\"open\" + 0.008*\"need\"\n",
      "\n",
      "Score 0.029159720987081528 \n",
      "Topic: 0.014*\"ask\" + 0.013*\"time\" + 0.013*\"talk\" + 0.012*\"relationship\" + 0.012*\"work\" + 0.011*\"like\" + 0.011*\"feel\" + 0.010*\"say\" + 0.010*\"couldn\" + 0.009*\"call\"\n",
      "\n",
      "Score 0.029118912294507027 \n",
      "Topic: 0.034*\"know\" + 0.030*\"want\" + 0.018*\"love\" + 0.014*\"hand\" + 0.013*\"need\" + 0.011*\"read\" + 0.010*\"have\" + 0.009*\"say\" + 0.009*\"time\" + 0.009*\"take\"\n",
      "\n",
      "Score 0.028806647285819054 \n",
      "Topic: 0.032*\"year\" + 0.019*\"know\" + 0.019*\"time\" + 0.018*\"life\" + 0.018*\"live\" + 0.014*\"later\" + 0.014*\"like\" + 0.011*\"home\" + 0.010*\"tri\" + 0.009*\"think\"\n"
     ]
    }
   ],
   "source": [
    "# check performance LDA with bow\n",
    "\n",
    "for indx, score in sorted(lda_model[bow_corpus[11001]], key=lambda tup: -1*tup[1]):\n",
    "    print('\\nScore {} \\nTopic: {}'.format(score, lda_model.print_topic(indx, 10)))"
   ]
  },
  {
   "cell_type": "code",
   "execution_count": 23,
   "metadata": {},
   "outputs": [
    {
     "name": "stdout",
     "output_type": "stream",
     "text": [
      "\n",
      "Score: 0.4552915096282959 \n",
      "Topic: 0.027*\"know\" + 0.018*\"look\" + 0.016*\"year\" + 0.014*\"mayb\" + 0.012*\"work\" + 0.011*\"think\" + 0.011*\"husband\" + 0.010*\"right\" + 0.009*\"come\" + 0.008*\"begin\"\n",
      "\n",
      "Score: 0.2674643397331238 \n",
      "Topic: 0.040*\"say\" + 0.016*\"life\" + 0.015*\"time\" + 0.013*\"wasn\" + 0.012*\"month\" + 0.012*\"need\" + 0.011*\"mother\" + 0.010*\"live\" + 0.010*\"love\" + 0.008*\"hear\"\n",
      "\n",
      "Score: 0.21857912838459015 \n",
      "Topic: 0.036*\"want\" + 0.021*\"like\" + 0.015*\"say\" + 0.012*\"hand\" + 0.012*\"take\" + 0.011*\"feel\" + 0.011*\"kiss\" + 0.010*\"know\" + 0.009*\"hold\" + 0.009*\"love\"\n",
      "\n",
      "Score: 0.029512085020542145 \n",
      "Topic: 0.025*\"love\" + 0.018*\"think\" + 0.012*\"like\" + 0.010*\"ask\" + 0.010*\"date\" + 0.010*\"felt\" + 0.010*\"happen\" + 0.010*\"talk\" + 0.009*\"peopl\" + 0.008*\"tell\"\n",
      "\n",
      "Score: 0.029152974486351013 \n",
      "Topic: 0.019*\"go\" + 0.017*\"say\" + 0.017*\"tell\" + 0.014*\"come\" + 0.011*\"thing\" + 0.008*\"friend\" + 0.008*\"leav\" + 0.008*\"like\" + 0.008*\"time\" + 0.008*\"couldn\"\n"
     ]
    }
   ],
   "source": [
    "# check performance LDA with tfidf\n",
    "\n",
    "for indx, score in sorted(lda_model_tfidf[bow_corpus[11001]], key=lambda tup: -1*tup[1]):\n",
    "    print('\\nScore: {} \\nTopic: {}'.format(score, lda_model_tfidf.print_topic(indx, 10)))"
   ]
  },
  {
   "cell_type": "code",
   "execution_count": null,
   "metadata": {},
   "outputs": [],
   "source": []
  },
  {
   "cell_type": "code",
   "execution_count": null,
   "metadata": {},
   "outputs": [],
   "source": [
    "# questions\n",
    "\n",
    "# how to do stats on topics/clusters\n",
    "# how to see if authors are grouped into similar clusters\n",
    "# how to incorporate NMF\n",
    "# what techniques to use for unsupervised learning feature generation/selection? LSA? Others?\n"
   ]
  }
 ],
 "metadata": {
  "kernelspec": {
   "display_name": "Python 3",
   "language": "python",
   "name": "python3"
  },
  "language_info": {
   "codemirror_mode": {
    "name": "ipython",
    "version": 3
   },
   "file_extension": ".py",
   "mimetype": "text/x-python",
   "name": "python",
   "nbconvert_exporter": "python",
   "pygments_lexer": "ipython3",
   "version": "3.7.2"
  }
 },
 "nbformat": 4,
 "nbformat_minor": 2
}
